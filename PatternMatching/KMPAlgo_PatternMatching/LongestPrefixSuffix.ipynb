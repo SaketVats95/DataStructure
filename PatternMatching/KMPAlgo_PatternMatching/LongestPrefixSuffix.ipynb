{
 "cells": [
  {
   "cell_type": "code",
   "execution_count": 15,
   "metadata": {},
   "outputs": [],
   "source": [
    "def LPSCal(p,m):\n",
    "    j,lps,i=0,[],1\n",
    "    lps.append(0)\n",
    "    while i<m:\n",
    "        if p[i]==p[j]:\n",
    "            lps.append(j+1)\n",
    "            j+=1\n",
    "            i+=1\n",
    "        else:\n",
    "            if j>0:\n",
    "                j=lps[j-1]\n",
    "            else:\n",
    "                lps.append(0)\n",
    "                i+=1\n",
    "    return lps"
   ]
  },
  {
   "cell_type": "code",
   "execution_count": 8,
   "metadata": {},
   "outputs": [
    {
     "name": "stdout",
     "output_type": "stream",
     "text": [
      "[0, 1, 0, 1, 0, 1, 0, 1]\n"
     ]
    },
    {
     "data": {
      "text/plain": [
       "['a', 'a', 'b', 'a', 'b', 'a', 'c', 'a']"
      ]
     },
     "execution_count": 8,
     "metadata": {},
     "output_type": "execute_result"
    }
   ],
   "source": [
    "pat=['a','a','b','a','b','a','c','a']\n",
    "print(LPSCal(pat,len(pat)))\n",
    "pat"
   ]
  },
  {
   "cell_type": "code",
   "execution_count": 19,
   "metadata": {},
   "outputs": [],
   "source": [
    "def KMP(t,p,n,m):\n",
    "    i,j=0,0\n",
    "    lps=LPSCal(p,m)\n",
    "    while i<n:\n",
    "        if t[i]==p[j]:\n",
    "            if j==m-1:\n",
    "                print(\"Match Found, Starting Index is :\",i-j)\n",
    "                j = lps[j-1]\n",
    "            else:\n",
    "                i+=1\n",
    "                j+=1\n",
    "        else:\n",
    "            if j!=0:\n",
    "                j=lps[j-1]\n",
    "            else:\n",
    "                i+=1\n",
    "        \n",
    "        "
   ]
  },
  {
   "cell_type": "code",
   "execution_count": 21,
   "metadata": {},
   "outputs": [
    {
     "name": "stdout",
     "output_type": "stream",
     "text": [
      "Match Found, Starting Index is : 11\n",
      "None\n"
     ]
    }
   ],
   "source": [
    "pat=['a','a','b','a','b','a','c','a']\n",
    "txt='aababacbaabaababaca'\n",
    "(KMP((txt),pat,len(txt),len(pat)))\n"
   ]
  },
  {
   "cell_type": "code",
   "execution_count": null,
   "metadata": {},
   "outputs": [],
   "source": []
  }
 ],
 "metadata": {
  "kernelspec": {
   "display_name": "Python 3",
   "language": "python",
   "name": "python3"
  },
  "language_info": {
   "codemirror_mode": {
    "name": "ipython",
    "version": 3
   },
   "file_extension": ".py",
   "mimetype": "text/x-python",
   "name": "python",
   "nbconvert_exporter": "python",
   "pygments_lexer": "ipython3",
   "version": "3.7.3"
  }
 },
 "nbformat": 4,
 "nbformat_minor": 2
}
